import time
from pynq import Overlay
import pynq.lib.dma
from pynq import Xlnk
import numpy as np
from pynq import MMIO
import random
import matplotlib.pyplot as plt

ol = Overlay('/home/xilinx/jupyter_notebooks/phase_detector_optimized/phase_detector_optimized.bit') # check this pathol.download() # this downloads your bitstream into FPGA
ol.download()

dma0 = ol.phase_detector.axi_dma_0 # first dma
dma1 = ol.phase_detector.axi_dma_1 # second dma
dma2 = ol.phase_detector.axi_dma_2 # third dma
dma3 = ol.phase_detector.axi_dma_3 # fourth dma

phase_detector_ip = MMIO(0x43c00000, 0x10000) # we got this address from 

xlnk = Xlnk()

length = 1024  # taken from hls code

in_buffer_i = xlnk.cma_array(shape=(length,), dtype=np.float32) # input buffer 1
in_buffer_q = xlnk.cma_array(shape=(length,), dtype=np.float32) # input buffer 2

out_buffer_r = xlnk.cma_array(shape=(length,), dtype=np.float32) # output buffer 1
out_buffer_theta = xlnk.cma_array(shape=(length,), dtype=np.float32) # output buffer 2

#########################
# my_file_handle=open("D:\\new_dir\\anotherfile.txt")
# my_file_handle.read()
# pull data from the dat input file
# 
# with open("/home/xilinx/jupyter_notebooks/phase_detector/input_i.dat", "r") as i_in;
# with open("/home/xilinx/jupyter_notebooks/phase_detector/input_q.dat", "r") as q_in;
#########################    

i_in = list()
q_in = list()

with open("/home/xilinx/jupyter_notebooks/phase_detector/input_i.dat", "r") as f_i:
    for line in f_i:
        i_in.append(float(line))
        #in_buffer_i.append(float(line))
with open("/home/xilinx/jupyter_notebooks/phase_detector/input_q.dat", "r") as f_q:
    for line in f_q:
        q_in.append(float(line))
        #in_buffer_q.append(float(line))


#input_file_i =open('/home/xilinx/jupyter_notebooks/phase_detector/input_i.dat')
# samples_i = random.sample(range(0, length), length)
#samples_i = input_file_i.read()
#np.copyto(in_buffer_i, samples_i)

#input_file_q =open('/home/xilinx/jupyter_notebooks/phase_detector/input_i=q.dat')
#samples_q = random.sample(range(0, length), length)
#samples_q = input_file_q.read()
#np.copyto(in_buffer_q, samples_q)

np.copyto(in_buffer_i, i_in)
np.copyto(in_buffer_q, q_in)

phase_detector_ip.write(0x10, length) # we got this address from vivado
t_start = time.time()

dma2.sendchannel.transfer(in_buffer_i)
dma3.sendchannel.transfer(in_buffer_q)  

dma0.sendchannel.transfer(in_buffer_i)  # input channel (write only)
dma1.sendchannel.transfer(in_buffer_q)  # input channel (write only)

dma2.recvchannel.transfer(out_buffer_theta)   # output channel
dma3.recvchannel.transfer(out_buffer_r)

dma2.sendchannel.wait()
dma3.sendchannel.wait()

dma0.sendchannel.wait()
dma1.sendchannel.wait()

dma2.recvchannel.wait()
dma3.recvchannel.wait()

t_stop = time.time()

in_buffer_i.close()
in_buffer_q.close()

out_buffer_r.close()
out_buffer_theta.close()
print('Hardware execution time: ', t_stop-t_start)
for i in range(0, length):
    print('{} {}'.format(out_buffer_theta[i], out_buffer_r[i]))
    
plt.plot(out_buffer_theta)
plt.title('Theta')
plt.xlabel('Samples [n]')
plt.ylabel('Radians')
plt.show()

plt.plot(out_buffer_r)
plt.title('r')
plt.xlabel('Samples [n]')
plt.ylabel('Magnitude')
plt.show()